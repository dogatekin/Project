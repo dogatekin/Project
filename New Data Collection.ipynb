{
 "cells": [
  {
   "cell_type": "markdown",
   "metadata": {},
   "source": [
    "# Collecting Data from Amazon\n",
    "---\n",
    "In this notebook, we scrape the missing parts of our dataset directly from Amazon using BeautifulSoup.\n",
    "\n",
    "The dataset we want:\n",
    "\n",
    "| ID | Review Score | Sales Rank | Category    | Title | Author | Date    | Visual Features     |\n",
    "| -- | ------------ | ---------- | ----------- | ----- | ------ | ------- | ------------------- |\n",
    "| |\n",
    "\n",
    "The dataset we have, as downloaded from [here](https://github.com/uchidalab/book-dataset):\n",
    "\n",
    "| ID | Filename | Image URL | Title | Author | Category ID | Category |\n",
    "| -- | -------- | --------- | ----- | ------ | ----------- | -------- |\n",
    "| |\n",
    "\n",
    "The `ID` column in the data can be used to access the webpage of each book, by connecting to https://www.amazon.com/dp/book-id. This allows us to scrape any data that is missing directly from Amazon.\n",
    "\n",
    "We already have the Title, Author and Category of each book ready to be used.\n",
    "\n",
    "For everything else, there's ~~Mastercard~~ BeautifulSoup."
   ]
  },
  {
   "cell_type": "code",
   "execution_count": 45,
   "metadata": {},
   "outputs": [],
   "source": [
    "import requests\n",
    "from bs4 import BeautifulSoup\n",
    "\n",
    "import pandas as pd\n",
    "import re\n",
    "from datetime import datetime\n",
    "from time import sleep\n",
    "from random import randint\n",
    "import csv"
   ]
  },
  {
   "cell_type": "markdown",
   "metadata": {},
   "source": [
    "## Preprocessing"
   ]
  },
  {
   "cell_type": "markdown",
   "metadata": {},
   "source": [
    "Load the data:"
   ]
  },
  {
   "cell_type": "code",
   "execution_count": 26,
   "metadata": {},
   "outputs": [
    {
     "data": {
      "text/html": [
       "<div>\n",
       "<style scoped>\n",
       "    .dataframe tbody tr th:only-of-type {\n",
       "        vertical-align: middle;\n",
       "    }\n",
       "\n",
       "    .dataframe tbody tr th {\n",
       "        vertical-align: top;\n",
       "    }\n",
       "\n",
       "    .dataframe thead th {\n",
       "        text-align: right;\n",
       "    }\n",
       "</style>\n",
       "<table border=\"1\" class=\"dataframe\">\n",
       "  <thead>\n",
       "    <tr style=\"text-align: right;\">\n",
       "      <th></th>\n",
       "      <th>ID</th>\n",
       "      <th>Filename</th>\n",
       "      <th>Image URL</th>\n",
       "      <th>Title</th>\n",
       "      <th>Author</th>\n",
       "      <th>Category ID</th>\n",
       "      <th>Category</th>\n",
       "    </tr>\n",
       "  </thead>\n",
       "  <tbody>\n",
       "    <tr>\n",
       "      <th>0</th>\n",
       "      <td>761183272</td>\n",
       "      <td>0761183272.jpg</td>\n",
       "      <td>http://ecx.images-amazon.com/images/I/61Y5cOdH...</td>\n",
       "      <td>Mom's Family Wall Calendar 2016</td>\n",
       "      <td>Sandra Boynton</td>\n",
       "      <td>3</td>\n",
       "      <td>Calendars</td>\n",
       "    </tr>\n",
       "    <tr>\n",
       "      <th>1</th>\n",
       "      <td>1623439671</td>\n",
       "      <td>1623439671.jpg</td>\n",
       "      <td>http://ecx.images-amazon.com/images/I/61t-hrSw...</td>\n",
       "      <td>Doug the Pug 2016 Wall Calendar</td>\n",
       "      <td>Doug the Pug</td>\n",
       "      <td>3</td>\n",
       "      <td>Calendars</td>\n",
       "    </tr>\n",
       "    <tr>\n",
       "      <th>2</th>\n",
       "      <td>B00O80WC6I</td>\n",
       "      <td>B00O80WC6I.jpg</td>\n",
       "      <td>http://ecx.images-amazon.com/images/I/41X-KQqs...</td>\n",
       "      <td>Moleskine 2016 Weekly Notebook, 12M, Large, Bl...</td>\n",
       "      <td>Moleskine</td>\n",
       "      <td>3</td>\n",
       "      <td>Calendars</td>\n",
       "    </tr>\n",
       "    <tr>\n",
       "      <th>3</th>\n",
       "      <td>761182187</td>\n",
       "      <td>0761182187.jpg</td>\n",
       "      <td>http://ecx.images-amazon.com/images/I/61j-4gxJ...</td>\n",
       "      <td>365 Cats Color Page-A-Day Calendar 2016</td>\n",
       "      <td>Workman Publishing</td>\n",
       "      <td>3</td>\n",
       "      <td>Calendars</td>\n",
       "    </tr>\n",
       "    <tr>\n",
       "      <th>4</th>\n",
       "      <td>1578052084</td>\n",
       "      <td>1578052084.jpg</td>\n",
       "      <td>http://ecx.images-amazon.com/images/I/51Ry4Tsq...</td>\n",
       "      <td>Sierra Club Engagement Calendar 2016</td>\n",
       "      <td>Sierra Club</td>\n",
       "      <td>3</td>\n",
       "      <td>Calendars</td>\n",
       "    </tr>\n",
       "  </tbody>\n",
       "</table>\n",
       "</div>"
      ],
      "text/plain": [
       "           ID        Filename  \\\n",
       "0   761183272  0761183272.jpg   \n",
       "1  1623439671  1623439671.jpg   \n",
       "2  B00O80WC6I  B00O80WC6I.jpg   \n",
       "3   761182187  0761182187.jpg   \n",
       "4  1578052084  1578052084.jpg   \n",
       "\n",
       "                                           Image URL  \\\n",
       "0  http://ecx.images-amazon.com/images/I/61Y5cOdH...   \n",
       "1  http://ecx.images-amazon.com/images/I/61t-hrSw...   \n",
       "2  http://ecx.images-amazon.com/images/I/41X-KQqs...   \n",
       "3  http://ecx.images-amazon.com/images/I/61j-4gxJ...   \n",
       "4  http://ecx.images-amazon.com/images/I/51Ry4Tsq...   \n",
       "\n",
       "                                               Title              Author  \\\n",
       "0                    Mom's Family Wall Calendar 2016      Sandra Boynton   \n",
       "1                    Doug the Pug 2016 Wall Calendar        Doug the Pug   \n",
       "2  Moleskine 2016 Weekly Notebook, 12M, Large, Bl...           Moleskine   \n",
       "3            365 Cats Color Page-A-Day Calendar 2016  Workman Publishing   \n",
       "4               Sierra Club Engagement Calendar 2016         Sierra Club   \n",
       "\n",
       "   Category ID   Category  \n",
       "0            3  Calendars  \n",
       "1            3  Calendars  \n",
       "2            3  Calendars  \n",
       "3            3  Calendars  \n",
       "4            3  Calendars  "
      ]
     },
     "execution_count": 26,
     "metadata": {},
     "output_type": "execute_result"
    }
   ],
   "source": [
    "header_names = ['ID', 'Filename', 'Image URL', 'Title', 'Author', 'Category ID', 'Category']\n",
    "\n",
    "books = pd.read_csv('book32-listing.csv', encoding='latin1', header=None, names=header_names)\n",
    "books.head()"
   ]
  },
  {
   "cell_type": "markdown",
   "metadata": {},
   "source": [
    "Inspect the categories:"
   ]
  },
  {
   "cell_type": "code",
   "execution_count": 27,
   "metadata": {},
   "outputs": [
    {
     "name": "stdout",
     "output_type": "stream",
     "text": [
      "Calendars\n",
      "Comics & Graphic Novels\n",
      "Test Preparation\n",
      "Mystery, Thriller & Suspense\n",
      "Science Fiction & Fantasy\n",
      "Romance\n",
      "Humor & Entertainment\n",
      "Literature & Fiction\n",
      "Gay & Lesbian\n",
      "Engineering & Transportation\n",
      "Cookbooks, Food & Wine\n",
      "Crafts, Hobbies & Home\n",
      "Arts & Photography\n",
      "Education & Teaching\n",
      "Parenting & Relationships\n",
      "Self-Help\n",
      "Computers & Technology\n",
      "Medical Books\n",
      "Science & Math\n",
      "Health, Fitness & Dieting\n",
      "Business & Money\n",
      "Law\n",
      "Biographies & Memoirs\n",
      "History\n",
      "Politics & Social Sciences\n",
      "Reference\n",
      "Christian Books & Bibles\n",
      "Religion & Spirituality\n",
      "Sports & Outdoors\n",
      "Teen & Young Adult\n",
      "Children's Books\n",
      "Travel\n"
     ]
    }
   ],
   "source": [
    "print('\\n'.join(books['Category'].unique()))"
   ]
  },
  {
   "cell_type": "markdown",
   "metadata": {},
   "source": [
    "We only want the Children's Books and we don't need the Category ID:"
   ]
  },
  {
   "cell_type": "code",
   "execution_count": 28,
   "metadata": {},
   "outputs": [
    {
     "data": {
      "text/html": [
       "<div>\n",
       "<style scoped>\n",
       "    .dataframe tbody tr th:only-of-type {\n",
       "        vertical-align: middle;\n",
       "    }\n",
       "\n",
       "    .dataframe tbody tr th {\n",
       "        vertical-align: top;\n",
       "    }\n",
       "\n",
       "    .dataframe thead th {\n",
       "        text-align: right;\n",
       "    }\n",
       "</style>\n",
       "<table border=\"1\" class=\"dataframe\">\n",
       "  <thead>\n",
       "    <tr style=\"text-align: right;\">\n",
       "      <th></th>\n",
       "      <th>ID</th>\n",
       "      <th>Filename</th>\n",
       "      <th>Image URL</th>\n",
       "      <th>Title</th>\n",
       "      <th>Author</th>\n",
       "      <th>Category</th>\n",
       "    </tr>\n",
       "  </thead>\n",
       "  <tbody>\n",
       "    <tr>\n",
       "      <th>0</th>\n",
       "      <td>545790352</td>\n",
       "      <td>0545790352.jpg</td>\n",
       "      <td>http://ecx.images-amazon.com/images/I/51MIi4p2...</td>\n",
       "      <td>Harry Potter and the Sorcerer's Stone: The Ill...</td>\n",
       "      <td>J.K. Rowling</td>\n",
       "      <td>Children's Books</td>\n",
       "    </tr>\n",
       "    <tr>\n",
       "      <th>1</th>\n",
       "      <td>1419717014</td>\n",
       "      <td>1419717014.jpg</td>\n",
       "      <td>http://ecx.images-amazon.com/images/I/61YgGsg-...</td>\n",
       "      <td>Diary of a Wimpy Kid: Old School</td>\n",
       "      <td>Jeff Kinney</td>\n",
       "      <td>Children's Books</td>\n",
       "    </tr>\n",
       "    <tr>\n",
       "      <th>2</th>\n",
       "      <td>1423160916</td>\n",
       "      <td>1423160916.jpg</td>\n",
       "      <td>http://ecx.images-amazon.com/images/I/611CmvkL...</td>\n",
       "      <td>Magnus Chase and the Gods of Asgard, Book 1: T...</td>\n",
       "      <td>Rick Riordan</td>\n",
       "      <td>Children's Books</td>\n",
       "    </tr>\n",
       "    <tr>\n",
       "      <th>3</th>\n",
       "      <td>1476789886</td>\n",
       "      <td>1476789886.jpg</td>\n",
       "      <td>http://ecx.images-amazon.com/images/I/51KqU7Dw...</td>\n",
       "      <td>Rush Revere and the Star-Spangled Banner</td>\n",
       "      <td>Rush Limbaugh</td>\n",
       "      <td>Children's Books</td>\n",
       "    </tr>\n",
       "    <tr>\n",
       "      <th>4</th>\n",
       "      <td>1338029991</td>\n",
       "      <td>1338029991.jpg</td>\n",
       "      <td>http://ecx.images-amazon.com/images/I/61kvq74k...</td>\n",
       "      <td>Harry Potter Coloring Book</td>\n",
       "      <td>Scholastic</td>\n",
       "      <td>Children's Books</td>\n",
       "    </tr>\n",
       "  </tbody>\n",
       "</table>\n",
       "</div>"
      ],
      "text/plain": [
       "           ID        Filename  \\\n",
       "0   545790352  0545790352.jpg   \n",
       "1  1419717014  1419717014.jpg   \n",
       "2  1423160916  1423160916.jpg   \n",
       "3  1476789886  1476789886.jpg   \n",
       "4  1338029991  1338029991.jpg   \n",
       "\n",
       "                                           Image URL  \\\n",
       "0  http://ecx.images-amazon.com/images/I/51MIi4p2...   \n",
       "1  http://ecx.images-amazon.com/images/I/61YgGsg-...   \n",
       "2  http://ecx.images-amazon.com/images/I/611CmvkL...   \n",
       "3  http://ecx.images-amazon.com/images/I/51KqU7Dw...   \n",
       "4  http://ecx.images-amazon.com/images/I/61kvq74k...   \n",
       "\n",
       "                                               Title         Author  \\\n",
       "0  Harry Potter and the Sorcerer's Stone: The Ill...   J.K. Rowling   \n",
       "1                   Diary of a Wimpy Kid: Old School    Jeff Kinney   \n",
       "2  Magnus Chase and the Gods of Asgard, Book 1: T...   Rick Riordan   \n",
       "3           Rush Revere and the Star-Spangled Banner  Rush Limbaugh   \n",
       "4                         Harry Potter Coloring Book     Scholastic   \n",
       "\n",
       "           Category  \n",
       "0  Children's Books  \n",
       "1  Children's Books  \n",
       "2  Children's Books  \n",
       "3  Children's Books  \n",
       "4  Children's Books  "
      ]
     },
     "execution_count": 28,
     "metadata": {},
     "output_type": "execute_result"
    }
   ],
   "source": [
    "books = books[books['Category'] == \"Children's Books\"].reset_index(drop=True)\n",
    "books.drop(columns=['Category ID'], inplace=True)\n",
    "books.head()"
   ]
  },
  {
   "cell_type": "markdown",
   "metadata": {},
   "source": [
    "Let's check how many books we have left:"
   ]
  },
  {
   "cell_type": "code",
   "execution_count": 19,
   "metadata": {},
   "outputs": [
    {
     "data": {
      "text/plain": [
       "13605"
      ]
     },
     "execution_count": 19,
     "metadata": {},
     "output_type": "execute_result"
    }
   ],
   "source": [
    "len(books)"
   ]
  },
  {
   "cell_type": "markdown",
   "metadata": {},
   "source": [
    "We are going to lose quite a bit more because some of them will not be on sale on Amazon anymore, so we will not be able to scrape information on them."
   ]
  },
  {
   "cell_type": "markdown",
   "metadata": {},
   "source": [
    "## Scraping"
   ]
  },
  {
   "cell_type": "markdown",
   "metadata": {},
   "source": [
    "The columns we need to scrape are: `Review Score`, `Sales Rank` and `Date`. We also need to download the images from the URLs so that we can extract visual features from them, completing our dataset.\n",
    "\n",
    "First we will demonstrate the scraping process for each column on an arbitrary example, then we will combine these in a function and scrape the information for all the books."
   ]
  },
  {
   "cell_type": "code",
   "execution_count": 29,
   "metadata": {},
   "outputs": [],
   "source": [
    "book_id = '0006476155'\n",
    "request = requests.get('https://www.amazon.com/dp/' + book_id)\n",
    "soup = BeautifulSoup(request.text, 'lxml')"
   ]
  },
  {
   "cell_type": "markdown",
   "metadata": {},
   "source": [
    "#### Sales Rank and Date"
   ]
  },
  {
   "cell_type": "markdown",
   "metadata": {},
   "source": [
    "We can get both of these from the product details table on the webpage, which is in a table conveniently named `productDetailsTable`:"
   ]
  },
  {
   "cell_type": "code",
   "execution_count": 30,
   "metadata": {
    "scrolled": true
   },
   "outputs": [
    {
     "data": {
      "text/plain": [
       "[<b>Paperback:</b>,\n",
       " <b>Publisher:</b>,\n",
       " <b>Language:</b>,\n",
       " <b>ISBN-10:</b>,\n",
       " <b>ISBN-13:</b>,\n",
       " <b>ASIN:</b>,\n",
       " <b>\n",
       "     Product Dimensions: \n",
       "     </b>,\n",
       " <b>Shipping Weight:</b>,\n",
       " <b>Average Customer Review:</b>,\n",
       " <b>Amazon Best Sellers Rank:</b>,\n",
       " <b><a href=\"https://www.amazon.com/gp/bestsellers/books/10482\">Police Procedurals</a></b>]"
      ]
     },
     "execution_count": 30,
     "metadata": {},
     "output_type": "execute_result"
    }
   ],
   "source": [
    "soup.select('#productDetailsTable li b')"
   ]
  },
  {
   "cell_type": "markdown",
   "metadata": {},
   "source": [
    "Again, we can use regex to extract the info we need from the table:"
   ]
  },
  {
   "cell_type": "code",
   "execution_count": 31,
   "metadata": {},
   "outputs": [
    {
     "name": "stdout",
     "output_type": "stream",
     "text": [
      "Sales Rank: 5,119,119\n",
      "Date: March 2004\n"
     ]
    }
   ],
   "source": [
    "for li in soup.select('#productDetailsTable li'):\n",
    "    # We only need two of the list items\n",
    "    if(li.b.string == 'Amazon Best Sellers Rank:'):\n",
    "        # The rank is given in the format #1,234,567\n",
    "        sales_rank = re.findall(u'#([\\d,]+)', li.b.nextSibling)[0]\n",
    "    elif(li.b.string == 'Publisher:'):\n",
    "        # The date is in parantheses and in the format (MM YYYY)\n",
    "        date = re.findall(u'\\((.*)\\)', li.b.nextSibling)[0]\n",
    "        \n",
    "print(f'Sales Rank: {sales_rank}\\nDate: {date}')"
   ]
  },
  {
   "cell_type": "markdown",
   "metadata": {},
   "source": [
    "#### Review Score"
   ]
  },
  {
   "cell_type": "markdown",
   "metadata": {},
   "source": [
    "You might have noticed there is also an item called `Average Customer Review` in the table we just used to extract the Rank and Date. Inside that item, all the review scores are found in a table with the id `histogramTable`, that gives the percentages of users for each score from 1 to 5 stars."
   ]
  },
  {
   "cell_type": "code",
   "execution_count": 32,
   "metadata": {
    "scrolled": true
   },
   "outputs": [
    {
     "data": {
      "text/plain": [
       "'5 star58%4 star25%3 star9%2 star4%1 star4%'"
      ]
     },
     "execution_count": 32,
     "metadata": {},
     "output_type": "execute_result"
    }
   ],
   "source": [
    "reviews = soup.select('#histogramTable')[0].text\n",
    "reviews"
   ]
  },
  {
   "cell_type": "markdown",
   "metadata": {},
   "source": [
    "The formatting is not great, but it's nothing we can't fix by using a simple regular expression:"
   ]
  },
  {
   "cell_type": "code",
   "execution_count": 33,
   "metadata": {},
   "outputs": [
    {
     "data": {
      "text/plain": [
       "[('5', '58'), ('4', '25'), ('3', '9'), ('2', '4'), ('1', '4')]"
      ]
     },
     "execution_count": 33,
     "metadata": {},
     "output_type": "execute_result"
    }
   ],
   "source": [
    "reviews = re.findall(u'(\\d) star(\\d+)%', reviews)\n",
    "reviews"
   ]
  },
  {
   "cell_type": "markdown",
   "metadata": {},
   "source": [
    "The weighted average of these scores is our final Review Score for the given book:"
   ]
  },
  {
   "cell_type": "code",
   "execution_count": 34,
   "metadata": {
    "scrolled": true
   },
   "outputs": [
    {
     "data": {
      "text/plain": [
       "4.29"
      ]
     },
     "execution_count": 34,
     "metadata": {},
     "output_type": "execute_result"
    }
   ],
   "source": [
    "score = 0\n",
    "for pair in reviews:\n",
    "    score += int(pair[0]) * int(pair[1])/100  # weights are percentages\n",
    "\n",
    "score"
   ]
  },
  {
   "cell_type": "markdown",
   "metadata": {},
   "source": [
    "#### Bringing it together"
   ]
  },
  {
   "cell_type": "code",
   "execution_count": 35,
   "metadata": {},
   "outputs": [],
   "source": [
    "# To use to parse dates later on\n",
    "# from dateutil import parser\n",
    "# parser.parse(date)"
   ]
  },
  {
   "cell_type": "code",
   "execution_count": 204,
   "metadata": {},
   "outputs": [],
   "source": [
    "def scrape_info(book_id):\n",
    "    # Initialize default values\n",
    "    sales_rank = date = score = None\n",
    "    \n",
    "    # Trick the bot detector?\n",
    "    sleep(randint(1,3))\n",
    "    \n",
    "    # Get the soup of the relevant page\n",
    "    request = requests.get('https://www.amazon.com/dp/' + book_id)\n",
    "    \n",
    "    if(request.status_code == 200):\n",
    "        soup = BeautifulSoup(request.text, 'lxml')\n",
    "\n",
    "        # Get sales rank and time\n",
    "        for li in soup.select('#productDetailsTable li'):\n",
    "            if(li.b.string == 'Amazon Best Sellers Rank:'):\n",
    "                sales_rank = re.findall(u'#([\\d,]+)', li.b.nextSibling)[0]  # Format: #1,234,567\n",
    "                sales_rank = int(sales_rank.replace(',',''))  # Remove the commas and convert to integer\n",
    "            elif(li.b.string == 'Publisher:'):\n",
    "                date = re.findall(u'\\(([^\\(\\)]*)\\)$', li.b.nextSibling)[0]  # Format: (MM YYYY)\n",
    "\n",
    "        # Get average review score\n",
    "        try:\n",
    "            reviews = soup.select('#histogramTable')[0].text\n",
    "            reviews = re.findall(u'(\\d) star(\\d+)%', reviews)\n",
    "\n",
    "            score = 0\n",
    "            for pair in reviews:\n",
    "                score += int(pair[0]) * int(pair[1])/100  # weights are percentages\n",
    "            score = round(score, 4)\n",
    "        except:\n",
    "            pass\n",
    "    else:\n",
    "        sales_rank = date = score = f'Error {request.status_code}'\n",
    "\n",
    "    return book_id, sales_rank, date, score"
   ]
  },
  {
   "cell_type": "markdown",
   "metadata": {},
   "source": [
    "Let's do a final test on the example book we used above:"
   ]
  },
  {
   "cell_type": "code",
   "execution_count": 203,
   "metadata": {},
   "outputs": [
    {
     "data": {
      "text/plain": [
       "('0006476155', 'Error 503', 'Error 503', 'Error 503')"
      ]
     },
     "execution_count": 203,
     "metadata": {},
     "output_type": "execute_result"
    }
   ],
   "source": [
    "scrape_info(book_id)"
   ]
  },
  {
   "cell_type": "markdown",
   "metadata": {},
   "source": [
    "## Completing the dataset"
   ]
  },
  {
   "cell_type": "code",
   "execution_count": 39,
   "metadata": {
    "scrolled": true
   },
   "outputs": [
    {
     "data": {
      "text/html": [
       "<div>\n",
       "<style scoped>\n",
       "    .dataframe tbody tr th:only-of-type {\n",
       "        vertical-align: middle;\n",
       "    }\n",
       "\n",
       "    .dataframe tbody tr th {\n",
       "        vertical-align: top;\n",
       "    }\n",
       "\n",
       "    .dataframe thead th {\n",
       "        text-align: right;\n",
       "    }\n",
       "</style>\n",
       "<table border=\"1\" class=\"dataframe\">\n",
       "  <thead>\n",
       "    <tr style=\"text-align: right;\">\n",
       "      <th></th>\n",
       "      <th>ID</th>\n",
       "      <th>Filename</th>\n",
       "      <th>Image URL</th>\n",
       "      <th>Title</th>\n",
       "      <th>Author</th>\n",
       "      <th>Category</th>\n",
       "    </tr>\n",
       "  </thead>\n",
       "  <tbody>\n",
       "    <tr>\n",
       "      <th>0</th>\n",
       "      <td>545790352</td>\n",
       "      <td>0545790352.jpg</td>\n",
       "      <td>http://ecx.images-amazon.com/images/I/51MIi4p2...</td>\n",
       "      <td>Harry Potter and the Sorcerer's Stone: The Ill...</td>\n",
       "      <td>J.K. Rowling</td>\n",
       "      <td>Children's Books</td>\n",
       "    </tr>\n",
       "    <tr>\n",
       "      <th>1</th>\n",
       "      <td>1419717014</td>\n",
       "      <td>1419717014.jpg</td>\n",
       "      <td>http://ecx.images-amazon.com/images/I/61YgGsg-...</td>\n",
       "      <td>Diary of a Wimpy Kid: Old School</td>\n",
       "      <td>Jeff Kinney</td>\n",
       "      <td>Children's Books</td>\n",
       "    </tr>\n",
       "    <tr>\n",
       "      <th>2</th>\n",
       "      <td>1423160916</td>\n",
       "      <td>1423160916.jpg</td>\n",
       "      <td>http://ecx.images-amazon.com/images/I/611CmvkL...</td>\n",
       "      <td>Magnus Chase and the Gods of Asgard, Book 1: T...</td>\n",
       "      <td>Rick Riordan</td>\n",
       "      <td>Children's Books</td>\n",
       "    </tr>\n",
       "    <tr>\n",
       "      <th>3</th>\n",
       "      <td>1476789886</td>\n",
       "      <td>1476789886.jpg</td>\n",
       "      <td>http://ecx.images-amazon.com/images/I/51KqU7Dw...</td>\n",
       "      <td>Rush Revere and the Star-Spangled Banner</td>\n",
       "      <td>Rush Limbaugh</td>\n",
       "      <td>Children's Books</td>\n",
       "    </tr>\n",
       "    <tr>\n",
       "      <th>4</th>\n",
       "      <td>1338029991</td>\n",
       "      <td>1338029991.jpg</td>\n",
       "      <td>http://ecx.images-amazon.com/images/I/61kvq74k...</td>\n",
       "      <td>Harry Potter Coloring Book</td>\n",
       "      <td>Scholastic</td>\n",
       "      <td>Children's Books</td>\n",
       "    </tr>\n",
       "  </tbody>\n",
       "</table>\n",
       "</div>"
      ],
      "text/plain": [
       "           ID        Filename  \\\n",
       "0   545790352  0545790352.jpg   \n",
       "1  1419717014  1419717014.jpg   \n",
       "2  1423160916  1423160916.jpg   \n",
       "3  1476789886  1476789886.jpg   \n",
       "4  1338029991  1338029991.jpg   \n",
       "\n",
       "                                           Image URL  \\\n",
       "0  http://ecx.images-amazon.com/images/I/51MIi4p2...   \n",
       "1  http://ecx.images-amazon.com/images/I/61YgGsg-...   \n",
       "2  http://ecx.images-amazon.com/images/I/611CmvkL...   \n",
       "3  http://ecx.images-amazon.com/images/I/51KqU7Dw...   \n",
       "4  http://ecx.images-amazon.com/images/I/61kvq74k...   \n",
       "\n",
       "                                               Title         Author  \\\n",
       "0  Harry Potter and the Sorcerer's Stone: The Ill...   J.K. Rowling   \n",
       "1                   Diary of a Wimpy Kid: Old School    Jeff Kinney   \n",
       "2  Magnus Chase and the Gods of Asgard, Book 1: T...   Rick Riordan   \n",
       "3           Rush Revere and the Star-Spangled Banner  Rush Limbaugh   \n",
       "4                         Harry Potter Coloring Book     Scholastic   \n",
       "\n",
       "           Category  \n",
       "0  Children's Books  \n",
       "1  Children's Books  \n",
       "2  Children's Books  \n",
       "3  Children's Books  \n",
       "4  Children's Books  "
      ]
     },
     "execution_count": 39,
     "metadata": {},
     "output_type": "execute_result"
    }
   ],
   "source": [
    "books.head()"
   ]
  },
  {
   "cell_type": "code",
   "execution_count": 171,
   "metadata": {},
   "outputs": [
    {
     "data": {
      "text/plain": [
       "2636       (3632, October 13, 2015, 4.72)\n",
       "2637    (25151, September 15, 2015, 4.85)\n",
       "2638           (2405, May 19, 2009, 4.72)\n",
       "2639         (4062, March 19, 2008, 4.65)\n",
       "2640       (3986, October 16, 2012, 4.82)\n",
       "2641       (78666, October 6, 2015, 4.72)\n",
       "2642     (27529, September 1, 2015, 4.74)\n",
       "2643      (25807, October 20, 2015, 4.92)\n",
       "2644     (49660, November 10, 2015, 4.61)\n",
       "2645      (16097, December 1, 2015, 4.92)\n",
       "2646    (Error 404, Error 404, Error 404)\n",
       "2647    (Error 404, Error 404, Error 404)\n",
       "2648    (Error 404, Error 404, Error 404)\n",
       "2649    (80905, September 22, 2015, 4.69)\n",
       "2650    (Error 404, Error 404, Error 404)\n",
       "2651          (3005, July 22, 2014, 4.51)\n",
       "2652          (447, March 17, 2014, 4.81)\n",
       "2653      (55551, October 20, 2015, 4.84)\n",
       "2654      (202321, October 6, 2015, 4.91)\n",
       "2655    (Error 404, Error 404, Error 404)\n",
       "2656         (4054, April 18, 2012, 4.66)\n",
       "2657    (Error 404, Error 404, Error 404)\n",
       "2658    (21204, September 22, 2015, 4.64)\n",
       "2659         (674, October 2, 2012, 4.54)\n",
       "2660      (24358, October 20, 2015, 4.79)\n",
       "2661       (1509, January 29, 2013, 4.85)\n",
       "2662                  (22743, 2013, 4.65)\n",
       "2663         (6905, April 11, 2007, 4.34)\n",
       "2664           (95246, May 1, 1997, 4.54)\n",
       "2665     (389646, October 13, 2015, 3.84)\n",
       "                      ...                \n",
       "2706    (Error 404, Error 404, Error 404)\n",
       "2707          (19969, May 13, 2014, 4.65)\n",
       "2708       (3758, October 15, 2013, 4.82)\n",
       "2709      (350940, October 6, 2015, 4.71)\n",
       "2710       (1674, October 29, 2013, 4.76)\n",
       "2711         (10478, April 7, 2015, 4.42)\n",
       "2712          (50116, May 12, 2015, 4.72)\n",
       "2713    (Error 404, Error 404, Error 404)\n",
       "2714       (6812, October 24, 2008, 4.48)\n",
       "2715     (20774, September 1, 2015, 4.79)\n",
       "2716    (16266, September 11, 2012, 4.32)\n",
       "2717       (61969, October 6, 2015, 4.04)\n",
       "2718          (8215, April 27, 1994, 4.7)\n",
       "2719       (12506, August 18, 2015, 4.75)\n",
       "2720    (Error 503, Error 503, Error 503)\n",
       "2721    (Error 404, Error 404, Error 404)\n",
       "2722     (2631, September 25, 2012, 4.82)\n",
       "2723         (11932, June 16, 2015, 4.83)\n",
       "2724    (Error 404, Error 404, Error 404)\n",
       "2725     (74159, September 9, 2015, 4.46)\n",
       "2726      (130668, October 8, 2013, 4.69)\n",
       "2727    (Error 404, Error 404, Error 404)\n",
       "2728           (47505, May 5, 2015, 4.65)\n",
       "2729     (108625, October 13, 2015, 3.98)\n",
       "2730    (Error 404, Error 404, Error 404)\n",
       "2731    (Error 404, Error 404, Error 404)\n",
       "2732      (69708, October 13, 2015, 4.89)\n",
       "2733    (Error 404, Error 404, Error 404)\n",
       "2734    (Error 404, Error 404, Error 404)\n",
       "2735      (65918, October 27, 2015, 4.78)\n",
       "Length: 100, dtype: object"
      ]
     },
     "execution_count": 171,
     "metadata": {},
     "output_type": "execute_result"
    }
   ],
   "source": [
    "scraped = dataset.head(100).apply(lambda row: scrape_info(row['ID']), axis=1)\n",
    "scraped"
   ]
  },
  {
   "cell_type": "markdown",
   "metadata": {},
   "source": [
    "### Parallelize It"
   ]
  },
  {
   "cell_type": "code",
   "execution_count": 128,
   "metadata": {},
   "outputs": [],
   "source": [
    "from dask import dataframe as dd\n",
    "from dask.multiprocessing import get\n",
    "from multiprocessing import cpu_count\n",
    "nCores = cpu_count()"
   ]
  },
  {
   "cell_type": "code",
   "execution_count": 180,
   "metadata": {
    "scrolled": true
   },
   "outputs": [],
   "source": [
    "test = dd.from_pandas(books.head(12), npartitions=nCores).\\\n",
    "   map_partitions(\n",
    "      lambda df : df.apply(\n",
    "         lambda row : scrape_info(row['ID']), axis=1)).\\\n",
    "   compute(get=get)"
   ]
  },
  {
   "cell_type": "code",
   "execution_count": 186,
   "metadata": {},
   "outputs": [
    {
     "data": {
      "text/html": [
       "<div>\n",
       "<style scoped>\n",
       "    .dataframe tbody tr th:only-of-type {\n",
       "        vertical-align: middle;\n",
       "    }\n",
       "\n",
       "    .dataframe tbody tr th {\n",
       "        vertical-align: top;\n",
       "    }\n",
       "\n",
       "    .dataframe thead th {\n",
       "        text-align: right;\n",
       "    }\n",
       "</style>\n",
       "<table border=\"1\" class=\"dataframe\">\n",
       "  <thead>\n",
       "    <tr style=\"text-align: right;\">\n",
       "      <th></th>\n",
       "      <th>0</th>\n",
       "      <th>1</th>\n",
       "      <th>2</th>\n",
       "      <th>3</th>\n",
       "    </tr>\n",
       "  </thead>\n",
       "  <tbody>\n",
       "    <tr>\n",
       "      <th>0</th>\n",
       "      <td>545790352</td>\n",
       "      <td>Error 404</td>\n",
       "      <td>Error 404</td>\n",
       "      <td>Error 404</td>\n",
       "    </tr>\n",
       "    <tr>\n",
       "      <th>1</th>\n",
       "      <td>1419717014</td>\n",
       "      <td>572</td>\n",
       "      <td>November 3, 2015</td>\n",
       "      <td>4.8</td>\n",
       "    </tr>\n",
       "    <tr>\n",
       "      <th>2</th>\n",
       "      <td>1423160916</td>\n",
       "      <td>10711</td>\n",
       "      <td>October 6, 2015</td>\n",
       "      <td>4.6</td>\n",
       "    </tr>\n",
       "    <tr>\n",
       "      <th>3</th>\n",
       "      <td>1476789886</td>\n",
       "      <td>Error 503</td>\n",
       "      <td>Error 503</td>\n",
       "      <td>Error 503</td>\n",
       "    </tr>\n",
       "    <tr>\n",
       "      <th>4</th>\n",
       "      <td>1338029991</td>\n",
       "      <td>Error 503</td>\n",
       "      <td>Error 503</td>\n",
       "      <td>Error 503</td>\n",
       "    </tr>\n",
       "    <tr>\n",
       "      <th>5</th>\n",
       "      <td>399172750</td>\n",
       "      <td>Error 404</td>\n",
       "      <td>Error 404</td>\n",
       "      <td>Error 404</td>\n",
       "    </tr>\n",
       "    <tr>\n",
       "      <th>6</th>\n",
       "      <td>399255370</td>\n",
       "      <td>Error 404</td>\n",
       "      <td>Error 404</td>\n",
       "      <td>Error 404</td>\n",
       "    </tr>\n",
       "    <tr>\n",
       "      <th>7</th>\n",
       "      <td>545392551</td>\n",
       "      <td>Error 404</td>\n",
       "      <td>Error 404</td>\n",
       "      <td>Error 404</td>\n",
       "    </tr>\n",
       "    <tr>\n",
       "      <th>8</th>\n",
       "      <td>399226907</td>\n",
       "      <td>Error 404</td>\n",
       "      <td>Error 404</td>\n",
       "      <td>Error 404</td>\n",
       "    </tr>\n",
       "    <tr>\n",
       "      <th>9</th>\n",
       "      <td>1481457047</td>\n",
       "      <td>5249</td>\n",
       "      <td>October 20, 2015</td>\n",
       "      <td>4.81</td>\n",
       "    </tr>\n",
       "    <tr>\n",
       "      <th>10</th>\n",
       "      <td>62304186</td>\n",
       "      <td>Error 404</td>\n",
       "      <td>Error 404</td>\n",
       "      <td>Error 404</td>\n",
       "    </tr>\n",
       "    <tr>\n",
       "      <th>11</th>\n",
       "      <td>141694737X</td>\n",
       "      <td>71</td>\n",
       "      <td>May 8, 2007</td>\n",
       "      <td>4.79</td>\n",
       "    </tr>\n",
       "  </tbody>\n",
       "</table>\n",
       "</div>"
      ],
      "text/plain": [
       "             0          1                 2          3\n",
       "0    545790352  Error 404         Error 404  Error 404\n",
       "1   1419717014        572  November 3, 2015        4.8\n",
       "2   1423160916      10711   October 6, 2015        4.6\n",
       "3   1476789886  Error 503         Error 503  Error 503\n",
       "4   1338029991  Error 503         Error 503  Error 503\n",
       "5    399172750  Error 404         Error 404  Error 404\n",
       "6    399255370  Error 404         Error 404  Error 404\n",
       "7    545392551  Error 404         Error 404  Error 404\n",
       "8    399226907  Error 404         Error 404  Error 404\n",
       "9   1481457047       5249  October 20, 2015       4.81\n",
       "10    62304186  Error 404         Error 404  Error 404\n",
       "11  141694737X         71       May 8, 2007       4.79"
      ]
     },
     "execution_count": 186,
     "metadata": {},
     "output_type": "execute_result"
    }
   ],
   "source": [
    "test.apply(pd.Series)"
   ]
  },
  {
   "cell_type": "code",
   "execution_count": 187,
   "metadata": {},
   "outputs": [],
   "source": [
    "with open('yo.csv', 'a') as file:\n",
    "    dd.from_pandas(books.head(nCores), npartitions=nCores).\\\n",
    "       map_partitions(\n",
    "          lambda df : df.apply(\n",
    "             lambda row : scrape_info(row['ID']), axis=1)).\\\n",
    "       compute(get=get).apply(pd.Series).to_csv(file, header=False, index=False)"
   ]
  },
  {
   "cell_type": "markdown",
   "metadata": {},
   "source": [
    "### Scrape to CSV"
   ]
  },
  {
   "cell_type": "markdown",
   "metadata": {},
   "source": [
    "Initialize CSV file:"
   ]
  },
  {
   "cell_type": "code",
   "execution_count": 122,
   "metadata": {},
   "outputs": [],
   "source": [
    "with open('scraped.csv', 'a') as file:\n",
    "    writer = csv.writer(file)\n",
    "    writer.writerow(['ID', 'Sales Rank', 'Date', 'Review Score'])"
   ]
  },
  {
   "cell_type": "markdown",
   "metadata": {},
   "source": [
    "Scrape and append to CSV file:"
   ]
  },
  {
   "cell_type": "code",
   "execution_count": 194,
   "metadata": {},
   "outputs": [],
   "source": [
    "with open('scraped.csv', 'a+') as file:\n",
    "    reader = csv.reader(file)\n",
    "    writer = csv.writer(file)\n",
    "    \n",
    "    try:\n",
    "        file.seek(0)\n",
    "        last_scraped = next(reversed(list(reader)))[0]\n",
    "        last_scraped_index = books.index[books['ID'] == last_scraped].tolist()[0]\n",
    "        index = last_scraped_index + 1\n",
    "    except:\n",
    "        index = 0\n",
    "    finally:\n",
    "        try:\n",
    "            while(True):\n",
    "                writer.writerow(scrape_info(books.iloc[index]['ID']))\n",
    "                file.flush()\n",
    "                index += 1\n",
    "        except KeyboardInterrupt:\n",
    "            pass"
   ]
  },
  {
   "cell_type": "code",
   "execution_count": 190,
   "metadata": {},
   "outputs": [
    {
     "data": {
      "text/plain": [
       "(12, 6)"
      ]
     },
     "execution_count": 190,
     "metadata": {},
     "output_type": "execute_result"
    }
   ],
   "source": [
    "books[5:5+12].shape"
   ]
  },
  {
   "cell_type": "code",
   "execution_count": 191,
   "metadata": {},
   "outputs": [
    {
     "data": {
      "text/html": [
       "<div>\n",
       "<style scoped>\n",
       "    .dataframe tbody tr th:only-of-type {\n",
       "        vertical-align: middle;\n",
       "    }\n",
       "\n",
       "    .dataframe tbody tr th {\n",
       "        vertical-align: top;\n",
       "    }\n",
       "\n",
       "    .dataframe thead th {\n",
       "        text-align: right;\n",
       "    }\n",
       "</style>\n",
       "<table border=\"1\" class=\"dataframe\">\n",
       "  <thead>\n",
       "    <tr style=\"text-align: right;\">\n",
       "      <th></th>\n",
       "      <th>ID</th>\n",
       "      <th>Filename</th>\n",
       "      <th>Image URL</th>\n",
       "      <th>Title</th>\n",
       "      <th>Author</th>\n",
       "      <th>Category</th>\n",
       "    </tr>\n",
       "  </thead>\n",
       "  <tbody>\n",
       "    <tr>\n",
       "      <th>5</th>\n",
       "      <td>399172750</td>\n",
       "      <td>0399172750.jpg</td>\n",
       "      <td>http://ecx.images-amazon.com/images/I/51ZnaboA...</td>\n",
       "      <td>The Day the Crayons Came Home</td>\n",
       "      <td>Drew Daywalt</td>\n",
       "      <td>Children's Books</td>\n",
       "    </tr>\n",
       "    <tr>\n",
       "      <th>6</th>\n",
       "      <td>399255370</td>\n",
       "      <td>0399255370.jpg</td>\n",
       "      <td>http://ecx.images-amazon.com/images/I/51HoHYJv...</td>\n",
       "      <td>The Day the Crayons Quit</td>\n",
       "      <td>Drew Daywalt</td>\n",
       "      <td>Children's Books</td>\n",
       "    </tr>\n",
       "    <tr>\n",
       "      <th>7</th>\n",
       "      <td>545392551</td>\n",
       "      <td>0545392551.jpg</td>\n",
       "      <td>http://ecx.images-amazon.com/images/I/51qvh4MA...</td>\n",
       "      <td>Giraffes Can't Dance</td>\n",
       "      <td>Giles Andreae</td>\n",
       "      <td>Children's Books</td>\n",
       "    </tr>\n",
       "    <tr>\n",
       "      <th>8</th>\n",
       "      <td>399226907</td>\n",
       "      <td>0399226907.jpg</td>\n",
       "      <td>http://ecx.images-amazon.com/images/I/41zqrOnj...</td>\n",
       "      <td>The Very Hungry Caterpillar</td>\n",
       "      <td>Eric Carle</td>\n",
       "      <td>Children's Books</td>\n",
       "    </tr>\n",
       "    <tr>\n",
       "      <th>9</th>\n",
       "      <td>1481457047</td>\n",
       "      <td>1481457047.jpg</td>\n",
       "      <td>http://ecx.images-amazon.com/images/I/61GfN%2B...</td>\n",
       "      <td>Dork Diaries 10: Tales from a Not-So-Perfect P...</td>\n",
       "      <td>Rachel RenÃ©e Russell</td>\n",
       "      <td>Children's Books</td>\n",
       "    </tr>\n",
       "    <tr>\n",
       "      <th>10</th>\n",
       "      <td>62304186</td>\n",
       "      <td>0062304186.jpg</td>\n",
       "      <td>http://ecx.images-amazon.com/images/I/61OU9ICZ...</td>\n",
       "      <td>Pete the Cat: Five Little Pumpkins</td>\n",
       "      <td>James Dean</td>\n",
       "      <td>Children's Books</td>\n",
       "    </tr>\n",
       "    <tr>\n",
       "      <th>11</th>\n",
       "      <td>141694737X</td>\n",
       "      <td>141694737X.jpg</td>\n",
       "      <td>http://ecx.images-amazon.com/images/I/51SQFs%2...</td>\n",
       "      <td>Dear Zoo: A Lift-the-Flap Book (Dear Zoo &amp; Fri...</td>\n",
       "      <td>Rod Campbell</td>\n",
       "      <td>Children's Books</td>\n",
       "    </tr>\n",
       "    <tr>\n",
       "      <th>12</th>\n",
       "      <td>803741715</td>\n",
       "      <td>0803741715.jpg</td>\n",
       "      <td>http://ecx.images-amazon.com/images/I/4148uGcg...</td>\n",
       "      <td>The Book with No Pictures</td>\n",
       "      <td>B.J. Novak</td>\n",
       "      <td>Children's Books</td>\n",
       "    </tr>\n",
       "    <tr>\n",
       "      <th>13</th>\n",
       "      <td>544568036</td>\n",
       "      <td>0544568036.jpg</td>\n",
       "      <td>http://ecx.images-amazon.com/images/I/51xF%2B0...</td>\n",
       "      <td>Little Blue Truck board book</td>\n",
       "      <td>Alice Schertle</td>\n",
       "      <td>Children's Books</td>\n",
       "    </tr>\n",
       "    <tr>\n",
       "      <th>14</th>\n",
       "      <td>385376715</td>\n",
       "      <td>0385376715.jpg</td>\n",
       "      <td>http://ecx.images-amazon.com/images/I/51q3%2Bu...</td>\n",
       "      <td>The Wonderful Things You Will Be</td>\n",
       "      <td>Emily Winfield Martin</td>\n",
       "      <td>Children's Books</td>\n",
       "    </tr>\n",
       "    <tr>\n",
       "      <th>15</th>\n",
       "      <td>60256656</td>\n",
       "      <td>0060256656.jpg</td>\n",
       "      <td>http://ecx.images-amazon.com/images/I/51-k2MEd...</td>\n",
       "      <td>The Giving Tree</td>\n",
       "      <td>Shel Silverstein</td>\n",
       "      <td>Children's Books</td>\n",
       "    </tr>\n",
       "    <tr>\n",
       "      <th>16</th>\n",
       "      <td>756634687</td>\n",
       "      <td>0756634687.jpg</td>\n",
       "      <td>http://ecx.images-amazon.com/images/I/51SIi1Rk...</td>\n",
       "      <td>Animals (Baby Touch and Feel)</td>\n",
       "      <td>DK Publishing</td>\n",
       "      <td>Children's Books</td>\n",
       "    </tr>\n",
       "  </tbody>\n",
       "</table>\n",
       "</div>"
      ],
      "text/plain": [
       "            ID        Filename  \\\n",
       "5    399172750  0399172750.jpg   \n",
       "6    399255370  0399255370.jpg   \n",
       "7    545392551  0545392551.jpg   \n",
       "8    399226907  0399226907.jpg   \n",
       "9   1481457047  1481457047.jpg   \n",
       "10    62304186  0062304186.jpg   \n",
       "11  141694737X  141694737X.jpg   \n",
       "12   803741715  0803741715.jpg   \n",
       "13   544568036  0544568036.jpg   \n",
       "14   385376715  0385376715.jpg   \n",
       "15    60256656  0060256656.jpg   \n",
       "16   756634687  0756634687.jpg   \n",
       "\n",
       "                                            Image URL  \\\n",
       "5   http://ecx.images-amazon.com/images/I/51ZnaboA...   \n",
       "6   http://ecx.images-amazon.com/images/I/51HoHYJv...   \n",
       "7   http://ecx.images-amazon.com/images/I/51qvh4MA...   \n",
       "8   http://ecx.images-amazon.com/images/I/41zqrOnj...   \n",
       "9   http://ecx.images-amazon.com/images/I/61GfN%2B...   \n",
       "10  http://ecx.images-amazon.com/images/I/61OU9ICZ...   \n",
       "11  http://ecx.images-amazon.com/images/I/51SQFs%2...   \n",
       "12  http://ecx.images-amazon.com/images/I/4148uGcg...   \n",
       "13  http://ecx.images-amazon.com/images/I/51xF%2B0...   \n",
       "14  http://ecx.images-amazon.com/images/I/51q3%2Bu...   \n",
       "15  http://ecx.images-amazon.com/images/I/51-k2MEd...   \n",
       "16  http://ecx.images-amazon.com/images/I/51SIi1Rk...   \n",
       "\n",
       "                                                Title                 Author  \\\n",
       "5                       The Day the Crayons Came Home           Drew Daywalt   \n",
       "6                            The Day the Crayons Quit           Drew Daywalt   \n",
       "7                                Giraffes Can't Dance          Giles Andreae   \n",
       "8                         The Very Hungry Caterpillar             Eric Carle   \n",
       "9   Dork Diaries 10: Tales from a Not-So-Perfect P...  Rachel RenÃ©e Russell   \n",
       "10                 Pete the Cat: Five Little Pumpkins             James Dean   \n",
       "11  Dear Zoo: A Lift-the-Flap Book (Dear Zoo & Fri...           Rod Campbell   \n",
       "12                          The Book with No Pictures             B.J. Novak   \n",
       "13                       Little Blue Truck board book         Alice Schertle   \n",
       "14                   The Wonderful Things You Will Be  Emily Winfield Martin   \n",
       "15                                    The Giving Tree       Shel Silverstein   \n",
       "16                      Animals (Baby Touch and Feel)          DK Publishing   \n",
       "\n",
       "            Category  \n",
       "5   Children's Books  \n",
       "6   Children's Books  \n",
       "7   Children's Books  \n",
       "8   Children's Books  \n",
       "9   Children's Books  \n",
       "10  Children's Books  \n",
       "11  Children's Books  \n",
       "12  Children's Books  \n",
       "13  Children's Books  \n",
       "14  Children's Books  \n",
       "15  Children's Books  \n",
       "16  Children's Books  "
      ]
     },
     "execution_count": 191,
     "metadata": {},
     "output_type": "execute_result"
    }
   ],
   "source": [
    "books.iloc[5:5+12]"
   ]
  },
  {
   "cell_type": "code",
   "execution_count": 192,
   "metadata": {},
   "outputs": [
    {
     "data": {
      "text/plain": [
       "ID                                                   553512331\n",
       "Filename                                        0553512331.jpg\n",
       "Image URL    http://ecx.images-amazon.com/images/I/51AeOMhY...\n",
       "Title                                            Spooky Pookie\n",
       "Author                                          Sandra Boynton\n",
       "Category                                      Children's Books\n",
       "Name: 17, dtype: object"
      ]
     },
     "execution_count": 192,
     "metadata": {},
     "output_type": "execute_result"
    }
   ],
   "source": [
    "books.iloc[17]"
   ]
  },
  {
   "cell_type": "code",
   "execution_count": null,
   "metadata": {},
   "outputs": [],
   "source": []
  }
 ],
 "metadata": {
  "kernelspec": {
   "display_name": "Python 3",
   "language": "python",
   "name": "python3"
  },
  "language_info": {
   "codemirror_mode": {
    "name": "ipython",
    "version": 3
   },
   "file_extension": ".py",
   "mimetype": "text/x-python",
   "name": "python",
   "nbconvert_exporter": "python",
   "pygments_lexer": "ipython3",
   "version": "3.6.5"
  }
 },
 "nbformat": 4,
 "nbformat_minor": 2
}
