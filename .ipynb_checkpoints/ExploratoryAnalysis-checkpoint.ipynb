{
 "cells": [
  {
   "cell_type": "markdown",
   "metadata": {},
   "source": [
    "### ADA Project: DataWizards\n",
    "\n",
    "#### _Judging books by its cover_"
   ]
  },
  {
   "cell_type": "code",
   "execution_count": 2,
   "metadata": {},
   "outputs": [
    {
     "ename": "ModuleNotFoundError",
     "evalue": "No module named 'cv2'",
     "output_type": "error",
     "traceback": [
      "\u001b[0;31m---------------------------------------------------------------------------\u001b[0m",
      "\u001b[0;31mModuleNotFoundError\u001b[0m                       Traceback (most recent call last)",
      "\u001b[0;32m<ipython-input-2-6cd2346733fe>\u001b[0m in \u001b[0;36m<module>\u001b[0;34m()\u001b[0m\n\u001b[1;32m      1\u001b[0m \u001b[0;32mfrom\u001b[0m \u001b[0mmatplotlib\u001b[0m \u001b[0;32mimport\u001b[0m \u001b[0mpyplot\u001b[0m \u001b[0;32mas\u001b[0m \u001b[0mplt\u001b[0m\u001b[0;34m\u001b[0m\u001b[0m\n\u001b[0;32m----> 2\u001b[0;31m \u001b[0;32mfrom\u001b[0m \u001b[0mfeature_extraction\u001b[0m \u001b[0;32mimport\u001b[0m \u001b[0;34m*\u001b[0m\u001b[0;34m\u001b[0m\u001b[0m\n\u001b[0m\u001b[1;32m      3\u001b[0m \u001b[0;34m\u001b[0m\u001b[0m\n\u001b[1;32m      4\u001b[0m \u001b[0;32mimport\u001b[0m \u001b[0mpandas\u001b[0m \u001b[0;32mas\u001b[0m \u001b[0mpd\u001b[0m\u001b[0;34m\u001b[0m\u001b[0m\n\u001b[1;32m      5\u001b[0m \u001b[0;32mimport\u001b[0m \u001b[0mnumpy\u001b[0m \u001b[0;32mas\u001b[0m \u001b[0mnp\u001b[0m\u001b[0;34m\u001b[0m\u001b[0m\n",
      "\u001b[0;32m~/Google_Drive/EPFL/1-1/CS-401/Project/feature_extraction.py\u001b[0m in \u001b[0;36m<module>\u001b[0;34m()\u001b[0m\n\u001b[0;32m----> 1\u001b[0;31m \u001b[0;32mimport\u001b[0m \u001b[0mcv2\u001b[0m\u001b[0;34m\u001b[0m\u001b[0m\n\u001b[0m\u001b[1;32m      2\u001b[0m \u001b[0;32mimport\u001b[0m \u001b[0mmath\u001b[0m\u001b[0;34m\u001b[0m\u001b[0m\n\u001b[1;32m      3\u001b[0m \u001b[0;32mimport\u001b[0m \u001b[0mcolorgram\u001b[0m\u001b[0;34m\u001b[0m\u001b[0m\n\u001b[1;32m      4\u001b[0m \u001b[0;32mimport\u001b[0m \u001b[0mnumpy\u001b[0m \u001b[0;32mas\u001b[0m \u001b[0mnp\u001b[0m\u001b[0;34m\u001b[0m\u001b[0m\n\u001b[1;32m      5\u001b[0m \u001b[0;34m\u001b[0m\u001b[0m\n",
      "\u001b[0;31mModuleNotFoundError\u001b[0m: No module named 'cv2'"
     ]
    }
   ],
   "source": [
    "from matplotlib import pyplot as plt\n",
    "from feature_extraction import *\n",
    "\n",
    "import pandas as pd\n",
    "import numpy as np\n",
    "import scipy as sp\n",
    "import math\n",
    "\n",
    "import colorgram\n",
    "import cv2\n",
    "import os\n",
    "\n",
    "%matplotlib inline"
   ]
  },
  {
   "cell_type": "code",
   "execution_count": 106,
   "metadata": {},
   "outputs": [],
   "source": [
    "data_folder = './data/'\n",
    "image_folder = './images/'"
   ]
  },
  {
   "cell_type": "code",
   "execution_count": 107,
   "metadata": {},
   "outputs": [],
   "source": [
    "books = pd.read_csv(data_folder + 'fake_data.csv', sep=';')"
   ]
  },
  {
   "cell_type": "markdown",
   "metadata": {},
   "source": [
    "### Overview\n",
    "\n",
    "We have chosen to divide the project into the following subtasks:\n",
    "1. Extract semantically meaningful features of the book covers\n",
    "2. Train a model with a good fit of the response variable\n",
    "3. Extract information from the model regarding most important features\n",
    "\n",
    "Since it is not the aim of the project to use an algorithm that simultanously learns the features and the model at the same time (as Krizhevsky et al.’s ImageNet CNN), we have chosen to first extract the features, and therenext build a model. "
   ]
  },
  {
   "cell_type": "markdown",
   "metadata": {},
   "source": [
    "### Extracting features\n",
    "\n",
    "We are interested in extracting overall features through white-box algorithms for the images. Overall, the following featurs will be extracted:\n",
    "\n",
    "- Top 5 colors in the image given as one metric storing the information of the RGB value\n",
    "- Brightness value \n",
    "- Entropy value (degree of randomness in the picture)\n",
    "- Complexity value defined as number of critical points normalized by resolution"
   ]
  },
  {
   "cell_type": "markdown",
   "metadata": {},
   "source": [
    "**Reading the image**"
   ]
  },
  {
   "cell_type": "markdown",
   "metadata": {},
   "source": [
    "Get paths of all book covers:"
   ]
  },
  {
   "cell_type": "code",
   "execution_count": 123,
   "metadata": {},
   "outputs": [],
   "source": [
    "# List of paths of book covers\n",
    "train_paths = []\n",
    "for root, dirs, files in os.walk(image_folder):\n",
    "    for file in files:\n",
    "        # Ignore hidden files\n",
    "        if not file.startswith('.'):\n",
    "            train_paths.append((os.path.join(root, file)))"
   ]
  },
  {
   "cell_type": "markdown",
   "metadata": {},
   "source": [
    "Load book covers and extract features using pre-defined functions:"
   ]
  },
  {
   "cell_type": "code",
   "execution_count": 119,
   "metadata": {},
   "outputs": [],
   "source": [
    "# Allocate feature matrix\n",
    "num_colors = 2\n",
    "num_features = 5 + num_colors*3\n",
    "X = np.zeros((len(train_paths), num_features))\n",
    "\n",
    "# Read images using openCV and compute features\n",
    "row = 0\n",
    "for path in train_paths:\n",
    "    image = cv2.imread(path)\n",
    "\n",
    "    # Make sure that unwanted image files does not corrupt\n",
    "    if image is None:\n",
    "        continue\n",
    "    \n",
    "    # Exract brightness of image\n",
    "    X[row, 0] = calculate_brightness(image)\n",
    "    \n",
    "    # Extract colorfulness metric of image\n",
    "    X[row, 1] = calculate_colorfulness(image)\n",
    "    \n",
    "    # Calculate image entropy as a measure of degree of randomness\n",
    "    X[row, 2] = calculate_entropy(image)\n",
    "    \n",
    "    # Compute number of unique colors in image\n",
    "    X[row, 3] = calculate_num_unique_colors(image)\n",
    "    \n",
    "    # Calculate number of keypoints in image\n",
    "    X[row, 4] = calculate_num_norm_keypoints(image)\n",
    "    \n",
    "    # Extract RGB color codes of top 2 dominant colors of image\n",
    "    X[row, 5:num_features] = calculate_top_colors(path, num_colors)\n",
    "    row += 1"
   ]
  },
  {
   "cell_type": "markdown",
   "metadata": {},
   "source": [
    "### Exploratory analysis\n",
    "\n",
    "- check sizes and types\n",
    "- maybe standardize features\n",
    "- handle missing values\n",
    "- handle outliers\n",
    "- make transformations if necessary\n",
    "- dummy coding categorical variables"
   ]
  },
  {
   "cell_type": "code",
   "execution_count": 31,
   "metadata": {
    "scrolled": false
   },
   "outputs": [
    {
     "data": {
      "text/html": [
       "<div>\n",
       "<style scoped>\n",
       "    .dataframe tbody tr th:only-of-type {\n",
       "        vertical-align: middle;\n",
       "    }\n",
       "\n",
       "    .dataframe tbody tr th {\n",
       "        vertical-align: top;\n",
       "    }\n",
       "\n",
       "    .dataframe thead th {\n",
       "        text-align: right;\n",
       "    }\n",
       "</style>\n",
       "<table border=\"1\" class=\"dataframe\">\n",
       "  <thead>\n",
       "    <tr style=\"text-align: right;\">\n",
       "      <th></th>\n",
       "      <th>ID</th>\n",
       "      <th>Review Score</th>\n",
       "      <th>Sales Rank</th>\n",
       "      <th>Category</th>\n",
       "      <th>Title</th>\n",
       "      <th>Author</th>\n",
       "      <th>Date</th>\n",
       "    </tr>\n",
       "  </thead>\n",
       "  <tbody>\n",
       "    <tr>\n",
       "      <th>0</th>\n",
       "      <td>1</td>\n",
       "      <td>468</td>\n",
       "      <td>202</td>\n",
       "      <td>Childrens Books</td>\n",
       "      <td>15Hej med dig13</td>\n",
       "      <td>Hans Jensen</td>\n",
       "      <td>01/12/06</td>\n",
       "    </tr>\n",
       "    <tr>\n",
       "      <th>1</th>\n",
       "      <td>2</td>\n",
       "      <td>893</td>\n",
       "      <td>123</td>\n",
       "      <td>Childrens Books</td>\n",
       "      <td>36Lok4</td>\n",
       "      <td>Jens Hansen</td>\n",
       "      <td>02/12/06</td>\n",
       "    </tr>\n",
       "    <tr>\n",
       "      <th>2</th>\n",
       "      <td>3</td>\n",
       "      <td>49</td>\n",
       "      <td>429</td>\n",
       "      <td>Childrens Books</td>\n",
       "      <td>1Lolly11</td>\n",
       "      <td>Peter Hansen</td>\n",
       "      <td>03/12/06</td>\n",
       "    </tr>\n",
       "    <tr>\n",
       "      <th>3</th>\n",
       "      <td>4</td>\n",
       "      <td>337</td>\n",
       "      <td>197</td>\n",
       "      <td>Childrens Books</td>\n",
       "      <td>13Nummer 3</td>\n",
       "      <td>Hans Kar</td>\n",
       "      <td>04/12/06</td>\n",
       "    </tr>\n",
       "    <tr>\n",
       "      <th>4</th>\n",
       "      <td>5</td>\n",
       "      <td>100</td>\n",
       "      <td>170</td>\n",
       "      <td>Childrens Books</td>\n",
       "      <td>42Gode ting 4</td>\n",
       "      <td>Hans Jensen</td>\n",
       "      <td>05/12/06</td>\n",
       "    </tr>\n",
       "  </tbody>\n",
       "</table>\n",
       "</div>"
      ],
      "text/plain": [
       "   ID  Review Score  Sales Rank         Category            Title  \\\n",
       "0   1           468         202  Childrens Books  15Hej med dig13   \n",
       "1   2           893         123  Childrens Books           36Lok4   \n",
       "2   3            49         429  Childrens Books         1Lolly11   \n",
       "3   4           337         197  Childrens Books       13Nummer 3   \n",
       "4   5           100         170  Childrens Books    42Gode ting 4   \n",
       "\n",
       "         Author      Date  \n",
       "0   Hans Jensen  01/12/06  \n",
       "1   Jens Hansen  02/12/06  \n",
       "2  Peter Hansen  03/12/06  \n",
       "3      Hans Kar  04/12/06  \n",
       "4   Hans Jensen  05/12/06  "
      ]
     },
     "execution_count": 31,
     "metadata": {},
     "output_type": "execute_result"
    }
   ],
   "source": [
    "books.head()"
   ]
  },
  {
   "cell_type": "markdown",
   "metadata": {},
   "source": [
    "Before checking for missing data etc we will get a closer look into data"
   ]
  },
  {
   "cell_type": "code",
   "execution_count": 32,
   "metadata": {
    "scrolled": true
   },
   "outputs": [
    {
     "data": {
      "text/plain": [
       "ID               int64\n",
       "Review Score     int64\n",
       "Sales Rank       int64\n",
       "Category        object\n",
       "Title           object\n",
       "Author          object\n",
       "Date            object\n",
       "dtype: object"
      ]
     },
     "execution_count": 32,
     "metadata": {},
     "output_type": "execute_result"
    }
   ],
   "source": [
    "books.dtypes"
   ]
  },
  {
   "cell_type": "markdown",
   "metadata": {},
   "source": [
    "Describing the basic statistics for the integer variables:"
   ]
  },
  {
   "cell_type": "code",
   "execution_count": 33,
   "metadata": {},
   "outputs": [
    {
     "data": {
      "text/html": [
       "<div>\n",
       "<style scoped>\n",
       "    .dataframe tbody tr th:only-of-type {\n",
       "        vertical-align: middle;\n",
       "    }\n",
       "\n",
       "    .dataframe tbody tr th {\n",
       "        vertical-align: top;\n",
       "    }\n",
       "\n",
       "    .dataframe thead th {\n",
       "        text-align: right;\n",
       "    }\n",
       "</style>\n",
       "<table border=\"1\" class=\"dataframe\">\n",
       "  <thead>\n",
       "    <tr style=\"text-align: right;\">\n",
       "      <th></th>\n",
       "      <th>ID</th>\n",
       "      <th>Review Score</th>\n",
       "      <th>Sales Rank</th>\n",
       "    </tr>\n",
       "  </thead>\n",
       "  <tbody>\n",
       "    <tr>\n",
       "      <th>count</th>\n",
       "      <td>100.000000</td>\n",
       "      <td>100.000000</td>\n",
       "      <td>100.000000</td>\n",
       "    </tr>\n",
       "    <tr>\n",
       "      <th>mean</th>\n",
       "      <td>50.500000</td>\n",
       "      <td>480.630000</td>\n",
       "      <td>260.310000</td>\n",
       "    </tr>\n",
       "    <tr>\n",
       "      <th>std</th>\n",
       "      <td>29.011492</td>\n",
       "      <td>296.455378</td>\n",
       "      <td>156.416221</td>\n",
       "    </tr>\n",
       "    <tr>\n",
       "      <th>min</th>\n",
       "      <td>1.000000</td>\n",
       "      <td>2.000000</td>\n",
       "      <td>5.000000</td>\n",
       "    </tr>\n",
       "    <tr>\n",
       "      <th>25%</th>\n",
       "      <td>25.750000</td>\n",
       "      <td>209.750000</td>\n",
       "      <td>109.750000</td>\n",
       "    </tr>\n",
       "    <tr>\n",
       "      <th>50%</th>\n",
       "      <td>50.500000</td>\n",
       "      <td>463.500000</td>\n",
       "      <td>250.000000</td>\n",
       "    </tr>\n",
       "    <tr>\n",
       "      <th>75%</th>\n",
       "      <td>75.250000</td>\n",
       "      <td>730.750000</td>\n",
       "      <td>409.250000</td>\n",
       "    </tr>\n",
       "    <tr>\n",
       "      <th>max</th>\n",
       "      <td>100.000000</td>\n",
       "      <td>983.000000</td>\n",
       "      <td>498.000000</td>\n",
       "    </tr>\n",
       "  </tbody>\n",
       "</table>\n",
       "</div>"
      ],
      "text/plain": [
       "               ID  Review Score  Sales Rank\n",
       "count  100.000000    100.000000  100.000000\n",
       "mean    50.500000    480.630000  260.310000\n",
       "std     29.011492    296.455378  156.416221\n",
       "min      1.000000      2.000000    5.000000\n",
       "25%     25.750000    209.750000  109.750000\n",
       "50%     50.500000    463.500000  250.000000\n",
       "75%     75.250000    730.750000  409.250000\n",
       "max    100.000000    983.000000  498.000000"
      ]
     },
     "execution_count": 33,
     "metadata": {},
     "output_type": "execute_result"
    }
   ],
   "source": [
    "books.describe()"
   ]
  },
  {
   "cell_type": "markdown",
   "metadata": {},
   "source": [
    "Also describing the values of the object variables:"
   ]
  },
  {
   "cell_type": "code",
   "execution_count": 34,
   "metadata": {},
   "outputs": [
    {
     "data": {
      "text/html": [
       "<div>\n",
       "<style scoped>\n",
       "    .dataframe tbody tr th:only-of-type {\n",
       "        vertical-align: middle;\n",
       "    }\n",
       "\n",
       "    .dataframe tbody tr th {\n",
       "        vertical-align: top;\n",
       "    }\n",
       "\n",
       "    .dataframe thead th {\n",
       "        text-align: right;\n",
       "    }\n",
       "</style>\n",
       "<table border=\"1\" class=\"dataframe\">\n",
       "  <thead>\n",
       "    <tr style=\"text-align: right;\">\n",
       "      <th></th>\n",
       "      <th>Category</th>\n",
       "      <th>Title</th>\n",
       "      <th>Author</th>\n",
       "      <th>Date</th>\n",
       "    </tr>\n",
       "  </thead>\n",
       "  <tbody>\n",
       "    <tr>\n",
       "      <th>count</th>\n",
       "      <td>100</td>\n",
       "      <td>100</td>\n",
       "      <td>100</td>\n",
       "      <td>100</td>\n",
       "    </tr>\n",
       "    <tr>\n",
       "      <th>unique</th>\n",
       "      <td>1</td>\n",
       "      <td>100</td>\n",
       "      <td>8</td>\n",
       "      <td>100</td>\n",
       "    </tr>\n",
       "    <tr>\n",
       "      <th>top</th>\n",
       "      <td>Childrens Books</td>\n",
       "      <td>38Weekend 18</td>\n",
       "      <td>Hans Kar</td>\n",
       "      <td>07/03/07</td>\n",
       "    </tr>\n",
       "    <tr>\n",
       "      <th>freq</th>\n",
       "      <td>100</td>\n",
       "      <td>1</td>\n",
       "      <td>25</td>\n",
       "      <td>1</td>\n",
       "    </tr>\n",
       "  </tbody>\n",
       "</table>\n",
       "</div>"
      ],
      "text/plain": [
       "               Category         Title    Author      Date\n",
       "count               100           100       100       100\n",
       "unique                1           100         8       100\n",
       "top     Childrens Books  38Weekend 18  Hans Kar  07/03/07\n",
       "freq                100             1        25         1"
      ]
     },
     "execution_count": 34,
     "metadata": {},
     "output_type": "execute_result"
    }
   ],
   "source": [
    "books.describe(include=[np.object])"
   ]
  },
  {
   "cell_type": "markdown",
   "metadata": {},
   "source": [
    "We notice that `Date` is not stored as a date, and we notice that the categorial variables as `ID`, `Title`, `Category`, and `Author` are not defined as categorical data."
   ]
  },
  {
   "cell_type": "code",
   "execution_count": 35,
   "metadata": {},
   "outputs": [],
   "source": [
    "# Typecasting into date format and categorical features\n",
    "books['Date'] = pd.to_datetime(books['Date'])\n",
    "books['ID'] = books['ID'].astype('category')\n",
    "books['Title'] = books['Title'].astype('category')\n",
    "books['Category'] = books['Category'].astype('category')\n",
    "books['Author'] = books['Author'].astype('category')"
   ]
  },
  {
   "cell_type": "code",
   "execution_count": 36,
   "metadata": {
    "scrolled": true
   },
   "outputs": [
    {
     "data": {
      "text/plain": [
       "ID                    category\n",
       "Review Score             int64\n",
       "Sales Rank               int64\n",
       "Category              category\n",
       "Title                 category\n",
       "Author                category\n",
       "Date            datetime64[ns]\n",
       "dtype: object"
      ]
     },
     "execution_count": 36,
     "metadata": {},
     "output_type": "execute_result"
    }
   ],
   "source": [
    "books.dtypes"
   ]
  },
  {
   "cell_type": "code",
   "execution_count": 37,
   "metadata": {
    "scrolled": true
   },
   "outputs": [
    {
     "data": {
      "text/html": [
       "<div>\n",
       "<style scoped>\n",
       "    .dataframe tbody tr th:only-of-type {\n",
       "        vertical-align: middle;\n",
       "    }\n",
       "\n",
       "    .dataframe tbody tr th {\n",
       "        vertical-align: top;\n",
       "    }\n",
       "\n",
       "    .dataframe thead th {\n",
       "        text-align: right;\n",
       "    }\n",
       "</style>\n",
       "<table border=\"1\" class=\"dataframe\">\n",
       "  <thead>\n",
       "    <tr style=\"text-align: right;\">\n",
       "      <th></th>\n",
       "      <th>ID</th>\n",
       "      <th>Review Score</th>\n",
       "      <th>Sales Rank</th>\n",
       "      <th>Category</th>\n",
       "      <th>Title</th>\n",
       "      <th>Author</th>\n",
       "      <th>Date</th>\n",
       "    </tr>\n",
       "  </thead>\n",
       "  <tbody>\n",
       "    <tr>\n",
       "      <th>0</th>\n",
       "      <td>1</td>\n",
       "      <td>468</td>\n",
       "      <td>202</td>\n",
       "      <td>Childrens Books</td>\n",
       "      <td>15Hej med dig13</td>\n",
       "      <td>Hans Jensen</td>\n",
       "      <td>2006-01-12</td>\n",
       "    </tr>\n",
       "    <tr>\n",
       "      <th>1</th>\n",
       "      <td>2</td>\n",
       "      <td>893</td>\n",
       "      <td>123</td>\n",
       "      <td>Childrens Books</td>\n",
       "      <td>36Lok4</td>\n",
       "      <td>Jens Hansen</td>\n",
       "      <td>2006-02-12</td>\n",
       "    </tr>\n",
       "    <tr>\n",
       "      <th>2</th>\n",
       "      <td>3</td>\n",
       "      <td>49</td>\n",
       "      <td>429</td>\n",
       "      <td>Childrens Books</td>\n",
       "      <td>1Lolly11</td>\n",
       "      <td>Peter Hansen</td>\n",
       "      <td>2006-03-12</td>\n",
       "    </tr>\n",
       "    <tr>\n",
       "      <th>3</th>\n",
       "      <td>4</td>\n",
       "      <td>337</td>\n",
       "      <td>197</td>\n",
       "      <td>Childrens Books</td>\n",
       "      <td>13Nummer 3</td>\n",
       "      <td>Hans Kar</td>\n",
       "      <td>2006-04-12</td>\n",
       "    </tr>\n",
       "    <tr>\n",
       "      <th>4</th>\n",
       "      <td>5</td>\n",
       "      <td>100</td>\n",
       "      <td>170</td>\n",
       "      <td>Childrens Books</td>\n",
       "      <td>42Gode ting 4</td>\n",
       "      <td>Hans Jensen</td>\n",
       "      <td>2006-05-12</td>\n",
       "    </tr>\n",
       "  </tbody>\n",
       "</table>\n",
       "</div>"
      ],
      "text/plain": [
       "  ID  Review Score  Sales Rank         Category            Title  \\\n",
       "0  1           468         202  Childrens Books  15Hej med dig13   \n",
       "1  2           893         123  Childrens Books           36Lok4   \n",
       "2  3            49         429  Childrens Books         1Lolly11   \n",
       "3  4           337         197  Childrens Books       13Nummer 3   \n",
       "4  5           100         170  Childrens Books    42Gode ting 4   \n",
       "\n",
       "         Author       Date  \n",
       "0   Hans Jensen 2006-01-12  \n",
       "1   Jens Hansen 2006-02-12  \n",
       "2  Peter Hansen 2006-03-12  \n",
       "3      Hans Kar 2006-04-12  \n",
       "4   Hans Jensen 2006-05-12  "
      ]
     },
     "execution_count": 37,
     "metadata": {},
     "output_type": "execute_result"
    }
   ],
   "source": [
    "books.head()"
   ]
  },
  {
   "cell_type": "markdown",
   "metadata": {},
   "source": [
    "Before we start visualising data we will check for missing values."
   ]
  },
  {
   "cell_type": "code",
   "execution_count": 38,
   "metadata": {
    "scrolled": false
   },
   "outputs": [
    {
     "data": {
      "text/plain": [
       "Series([], dtype: float64)"
      ]
     },
     "execution_count": 38,
     "metadata": {},
     "output_type": "execute_result"
    }
   ],
   "source": [
    "null_columns=books.columns[books.isnull().any()]\n",
    "books[null_columns].isnull().sum()"
   ]
  },
  {
   "cell_type": "markdown",
   "metadata": {},
   "source": [
    "From the above result we can conclude that we have no NaNs as part of the data. \n",
    "As a summary, the model will be build on the following 7 variables with the corresponding types:\n",
    "\n",
    "    - ID: Categorical variable \n",
    "    - Review score: Continious variable\n",
    "    - Sales Rank: Continious variable\n",
    "    - Category: Categorical variable\n",
    "    - Title: Categorical Variable\n",
    "    - Author: Categorical Variable\n",
    "    - Date: Date formatted variable\n",
    "\n"
   ]
  },
  {
   "cell_type": "markdown",
   "metadata": {},
   "source": [
    "As part of the exloratory analysis we will plot the features to examine possible outliers. The variable we are trying to predict is the `Sales Rank`, and we will start by examining the distribution through a boxplot:"
   ]
  },
  {
   "cell_type": "code",
   "execution_count": 39,
   "metadata": {
    "scrolled": true
   },
   "outputs": [
    {
     "data": {
      "text/plain": [
       "<matplotlib.axes._subplots.AxesSubplot at 0x10fdcdf28>"
      ]
     },
     "execution_count": 39,
     "metadata": {},
     "output_type": "execute_result"
    },
    {
     "data": {
      "image/png": "[encoded data removed]",
      "text/plain": [
       "<matplotlib.figure.Figure at 0x10fdcdba8>"
      ]
     },
     "metadata": {},
     "output_type": "display_data"
    }
   ],
   "source": [
    "books.boxplot(column='Sales Rank')"
   ]
  },
  {
   "cell_type": "markdown",
   "metadata": {},
   "source": [
    "In the above boxplot, it does not seem like we have any outliers in the responsevariable.\n",
    "\n",
    "Further to this, it could be interesting to examine the correlation between `Review Score` and `Sales Rank`."
   ]
  },
  {
   "cell_type": "code",
   "execution_count": 40,
   "metadata": {},
   "outputs": [
    {
     "data": {
      "text/plain": [
       "<matplotlib.axes._subplots.AxesSubplot at 0x10fdf93c8>"
      ]
     },
     "execution_count": 40,
     "metadata": {},
     "output_type": "execute_result"
    },
    {
     "data": {
      "image/png": "[encoded data removed]",
      "text/plain": [
       "<matplotlib.figure.Figure at 0x10fe16470>"
      ]
     },
     "metadata": {},
     "output_type": "display_data"
    }
   ],
   "source": [
    "books.plot.scatter(x='Review Score',y='Sales Rank')"
   ]
  },
  {
   "cell_type": "markdown",
   "metadata": {},
   "source": [
    "A correlation between `Review Score` and `Sales Rank` is hard to detect based on the output above, but it can be checked through the _pearson correlation coefficient_."
   ]
  },
  {
   "cell_type": "code",
   "execution_count": 41,
   "metadata": {},
   "outputs": [
    {
     "data": {
      "text/plain": [
       "0.192684287055698"
      ]
     },
     "execution_count": 41,
     "metadata": {},
     "output_type": "execute_result"
    }
   ],
   "source": [
    "books['Review Score'].corr(books['Sales Rank'])"
   ]
  },
  {
   "cell_type": "markdown",
   "metadata": {},
   "source": [
    "..."
   ]
  },
  {
   "cell_type": "markdown",
   "metadata": {},
   "source": [
    "As a lart important part we will _dummy code_ the categorical features in order to include them in a model. "
   ]
  },
  {
   "cell_type": "code",
   "execution_count": 46,
   "metadata": {},
   "outputs": [],
   "source": [
    "cat_features = books.select_dtypes(include='category').columns[1:]\n",
    "\n",
    "books = pd.get_dummies(books, drop_first=False, columns=cat_features)\n",
    "#books.dtypes"
   ]
  },
  {
   "cell_type": "markdown",
   "metadata": {},
   "source": [
    "As another transformation, we will.."
   ]
  },
  {
   "cell_type": "code",
   "execution_count": null,
   "metadata": {},
   "outputs": [],
   "source": []
  },
  {
   "cell_type": "code",
   "execution_count": null,
   "metadata": {},
   "outputs": [],
   "source": []
  },
  {
   "cell_type": "markdown",
   "metadata": {},
   "source": [
    "Since data is now cleaned, we will merge with the visual features."
   ]
  },
  {
   "cell_type": "code",
   "execution_count": null,
   "metadata": {
    "scrolled": true
   },
   "outputs": [],
   "source": []
  },
  {
   "cell_type": "code",
   "execution_count": null,
   "metadata": {},
   "outputs": [],
   "source": []
  },
  {
   "cell_type": "markdown",
   "metadata": {},
   "source": [
    "### Discussion of methods"
   ]
  },
  {
   "cell_type": "markdown",
   "metadata": {},
   "source": [
    "Having done the exploratory analysis, we proceeding with building a model based on the `Review Score`, `Category`, `Price` and the above extracted semantically meaningfull visual features. The response of the model will be the `Sales Rank`.\n",
    "\n",
    "The model being built is a Random Forest, which is an ensemble of many decision trees. The Random Forest is chosen due to a great ability of handling large datasets, reducing the risk of overfitting due to averaging the result of many trees, and for the same reason reducing the variance of the final classifier. \n",
    "\n",
    "\n",
    "The Random Forest algorithm is an _ensemble method_ that constructs a classifier by combining several independent classifiers coming from bootstrap sampling. One single decision tree has low bias but high variance - _low bias_ due to not making any assumptions about the target function before modelling, and therefore it is a very flexible model. On the other hand, the output might change as the training data changes giving it a _high variance_. \n",
    "Since each decision tree generated through bagging already will be identically distributed, the expectation of the average of these trees will be the same as the expectation of any of them, leaving the bias unchanged.\n",
    "\n",
    "The variance will on the other hand be minimised. If variables are identically distributed (i.i.d) with variance $\\sigma^2$ and the number of trees being bagged is B, the variance of the average will be $\\frac{1}{B} \\sigma^2$. Furthermore, if these variables are identically distributed with a positive pairwise correlation $\\rho$, the variance of the average is defined to be:\n",
    "\n",
    "$$\\rho \\sigma^2 + \\frac{1-\\rho}{B}\\sigma^2$$\n",
    "\n",
    "When B increases, the limitation of the averaging will be the size of correlation between trees. The reduction of the correlation between the trees is done through the random selection of input variables.\n",
    "\n",
    "This bias-variance tradeoff is one of the main advantages of Random Forest. The Random Forest predictor is defined as:\n",
    "\n",
    "$$ f(x) = \\frac{1}{B} \\sum_{B=1}^B T(x,phi)$$\n",
    "\n",
    "\n",
    "(The elements of Statistical Learning [chp.15] by Hastie, Tibshirani, Friedman)"
   ]
  },
  {
   "cell_type": "code",
   "execution_count": null,
   "metadata": {},
   "outputs": [],
   "source": []
  }
 ],
 "metadata": {
  "kernelspec": {
   "display_name": "Python 3",
   "language": "python",
   "name": "python3"
  },
  "language_info": {
   "codemirror_mode": {
    "name": "ipython",
    "version": 3
   },
   "file_extension": ".py",
   "mimetype": "text/x-python",
   "name": "python",
   "nbconvert_exporter": "python",
   "pygments_lexer": "ipython3",
   "version": "3.6.5"
  }
 },
 "nbformat": 4,
 "nbformat_minor": 2
}
